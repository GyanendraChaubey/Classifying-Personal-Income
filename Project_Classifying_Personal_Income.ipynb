{
  "nbformat": 4,
  "nbformat_minor": 0,
  "metadata": {
    "colab": {
      "name": "Project:: Classifying Personal Income.ipynb",
      "provenance": [],
      "collapsed_sections": [],
      "include_colab_link": true
    },
    "kernelspec": {
      "name": "python3",
      "display_name": "Python 3"
    },
    "language_info": {
      "name": "python"
    }
  },
  "cells": [
    {
      "cell_type": "markdown",
      "metadata": {
        "id": "view-in-github",
        "colab_type": "text"
      },
      "source": [
        "<a href=\"https://colab.research.google.com/github/GyanendraChaubey/Classifying-Personal-Income/blob/master/Project_Classifying_Personal_Income.ipynb\" target=\"_parent\"><img src=\"https://colab.research.google.com/assets/colab-badge.svg\" alt=\"Open In Colab\"/></a>"
      ]
    },
    {
      "cell_type": "markdown",
      "source": [
        "##Classifying Personal Income"
      ],
      "metadata": {
        "id": "ZZLQQ2kMdiqs"
      }
    },
    {
      "cell_type": "code",
      "metadata": {
        "id": "vbvSzJZWhb59"
      },
      "source": [
        "#importing Necessary libraries\n",
        "import numpy as np\n",
        "import pandas as pd\n",
        "import seaborn as sns\n",
        "import matplotlib.pyplot as plt"
      ],
      "execution_count": null,
      "outputs": []
    },
    {
      "cell_type": "code",
      "metadata": {
        "id": "IJbcSQzZmn6R"
      },
      "source": [
        "#Import data\n",
        "data=pd.read_csv(\"/content/drive/MyDrive/income.csv\")"
      ],
      "execution_count": null,
      "outputs": []
    },
    {
      "cell_type": "code",
      "metadata": {
        "id": "MCqTNnL3nIHp"
      },
      "source": [
        "#Creating a copy of the data\n",
        "data=data.copy()"
      ],
      "execution_count": null,
      "outputs": []
    },
    {
      "cell_type": "markdown",
      "metadata": {
        "id": "C7vH4PMonhze"
      },
      "source": [
        "##Exploratory Data Analysis\n",
        "1. Getting to know the data\n",
        "2. Data preprocessing (Missing Values)\n",
        "3. Cross tables for data visualization"
      ]
    },
    {
      "cell_type": "code",
      "metadata": {
        "colab": {
          "base_uri": "https://localhost:8080/"
        },
        "id": "wsSG8UV7ndTv",
        "outputId": "3db1f548-9993-401a-bed4-01abd93ad269"
      },
      "source": [
        "#Checking for the variable/columns data type\n",
        "data.info()"
      ],
      "execution_count": null,
      "outputs": [
        {
          "output_type": "stream",
          "text": [
            "<class 'pandas.core.frame.DataFrame'>\n",
            "RangeIndex: 31978 entries, 0 to 31977\n",
            "Data columns (total 13 columns):\n",
            " #   Column         Non-Null Count  Dtype \n",
            "---  ------         --------------  ----- \n",
            " 0   age            31978 non-null  int64 \n",
            " 1   JobType        31978 non-null  object\n",
            " 2   EdType         31978 non-null  object\n",
            " 3   maritalstatus  31978 non-null  object\n",
            " 4   occupation     31978 non-null  object\n",
            " 5   relationship   31978 non-null  object\n",
            " 6   race           31978 non-null  object\n",
            " 7   gender         31978 non-null  object\n",
            " 8   capitalgain    31978 non-null  int64 \n",
            " 9   capitalloss    31978 non-null  int64 \n",
            " 10  hoursperweek   31978 non-null  int64 \n",
            " 11  nativecountry  31978 non-null  object\n",
            " 12  SalStat        31978 non-null  object\n",
            "dtypes: int64(4), object(9)\n",
            "memory usage: 3.2+ MB\n"
          ],
          "name": "stdout"
        }
      ]
    },
    {
      "cell_type": "code",
      "metadata": {
        "colab": {
          "base_uri": "https://localhost:8080/"
        },
        "id": "3tlABT_Bn_tC",
        "outputId": "f616300d-e155-41ce-977c-9ead5dd7be30"
      },
      "source": [
        "#Checking for null/missing values\n",
        "data.isnull().sum()"
      ],
      "execution_count": null,
      "outputs": [
        {
          "output_type": "execute_result",
          "data": {
            "text/plain": [
              "age              0\n",
              "JobType          0\n",
              "EdType           0\n",
              "maritalstatus    0\n",
              "occupation       0\n",
              "relationship     0\n",
              "race             0\n",
              "gender           0\n",
              "capitalgain      0\n",
              "capitalloss      0\n",
              "hoursperweek     0\n",
              "nativecountry    0\n",
              "SalStat          0\n",
              "dtype: int64"
            ]
          },
          "metadata": {
            "tags": []
          },
          "execution_count": 5
        }
      ]
    },
    {
      "cell_type": "code",
      "metadata": {
        "colab": {
          "base_uri": "https://localhost:8080/",
          "height": 282
        },
        "id": "skc6jqtFoanH",
        "outputId": "e7f014d5-36fc-4d94-ba0c-5fca5f7c850c"
      },
      "source": [
        "data.describe()"
      ],
      "execution_count": null,
      "outputs": [
        {
          "output_type": "error",
          "ename": "NameError",
          "evalue": "ignored",
          "traceback": [
            "\u001b[0;31m---------------------------------------------------------------------------\u001b[0m",
            "\u001b[0;31mNameError\u001b[0m                                 Traceback (most recent call last)",
            "\u001b[0;32m<ipython-input-1-2bb0b18689d4>\u001b[0m in \u001b[0;36m<module>\u001b[0;34m()\u001b[0m\n\u001b[0;32m----> 1\u001b[0;31m \u001b[0mdata\u001b[0m\u001b[0;34m.\u001b[0m\u001b[0mdescribe\u001b[0m\u001b[0;34m(\u001b[0m\u001b[0;34m)\u001b[0m\u001b[0;34m\u001b[0m\u001b[0;34m\u001b[0m\u001b[0m\n\u001b[0m",
            "\u001b[0;31mNameError\u001b[0m: name 'data' is not defined"
          ]
        }
      ]
    },
    {
      "cell_type": "markdown",
      "source": [
        ""
      ],
      "metadata": {
        "id": "EUn9BCIkxxMx"
      }
    },
    {
      "cell_type": "code",
      "metadata": {
        "colab": {
          "base_uri": "https://localhost:8080/",
          "height": 282
        },
        "id": "WBHysuHbo3VR",
        "outputId": "86fb99af-36fb-4037-a17b-8e88ac201e9e"
      },
      "source": [
        "data.head()"
      ],
      "execution_count": null,
      "outputs": [
        {
          "output_type": "error",
          "ename": "NameError",
          "evalue": "ignored",
          "traceback": [
            "\u001b[0;31m---------------------------------------------------------------------------\u001b[0m",
            "\u001b[0;31mNameError\u001b[0m                                 Traceback (most recent call last)",
            "\u001b[0;32m<ipython-input-1-304fa4ce4ebd>\u001b[0m in \u001b[0;36m<module>\u001b[0;34m()\u001b[0m\n\u001b[0;32m----> 1\u001b[0;31m \u001b[0mdata\u001b[0m\u001b[0;34m.\u001b[0m\u001b[0mhead\u001b[0m\u001b[0;34m(\u001b[0m\u001b[0;34m)\u001b[0m\u001b[0;34m\u001b[0m\u001b[0;34m\u001b[0m\u001b[0m\n\u001b[0m",
            "\u001b[0;31mNameError\u001b[0m: name 'data' is not defined"
          ]
        }
      ]
    },
    {
      "cell_type": "code",
      "metadata": {
        "colab": {
          "base_uri": "https://localhost:8080/"
        },
        "id": "faonwxOapacK",
        "outputId": "a55902b7-f667-4271-acc8-83517ab013cb"
      },
      "source": [
        "#Frequency of values in JobType\n",
        "data['JobType'].value_counts()"
      ],
      "execution_count": null,
      "outputs": [
        {
          "output_type": "execute_result",
          "data": {
            "text/plain": [
              " Private             22286\n",
              " Self-emp-not-inc     2499\n",
              " Local-gov            2067\n",
              " ?                    1809\n",
              " State-gov            1279\n",
              " Self-emp-inc         1074\n",
              " Federal-gov           943\n",
              " Without-pay            14\n",
              " Never-worked            7\n",
              "Name: JobType, dtype: int64"
            ]
          },
          "metadata": {
            "tags": []
          },
          "execution_count": 8
        }
      ]
    },
    {
      "cell_type": "code",
      "metadata": {
        "colab": {
          "base_uri": "https://localhost:8080/"
        },
        "id": "EjEeJjWQqgmf",
        "outputId": "3ac71e8c-d8f5-48b3-b298-cf2e312e750e"
      },
      "source": [
        "#Frequency of values in Occupation\n",
        "data['occupation'].value_counts()"
      ],
      "execution_count": null,
      "outputs": [
        {
          "output_type": "execute_result",
          "data": {
            "text/plain": [
              " Prof-specialty       4038\n",
              " Craft-repair         4030\n",
              " Exec-managerial      3992\n",
              " Adm-clerical         3721\n",
              " Sales                3584\n",
              " Other-service        3212\n",
              " Machine-op-inspct    1966\n",
              " ?                    1816\n",
              " Transport-moving     1572\n",
              " Handlers-cleaners    1350\n",
              " Farming-fishing       989\n",
              " Tech-support          912\n",
              " Protective-serv       644\n",
              " Priv-house-serv       143\n",
              " Armed-Forces            9\n",
              "Name: occupation, dtype: int64"
            ]
          },
          "metadata": {
            "tags": []
          },
          "execution_count": 9
        }
      ]
    },
    {
      "cell_type": "markdown",
      "metadata": {
        "id": "znlZgWOLrNTO"
      },
      "source": [
        "We have found that there are \"?\" in the data. Hence we will move back and include \"na_values=['?']\" in reading of data"
      ]
    },
    {
      "cell_type": "code",
      "metadata": {
        "id": "TMCNLM7frC-w"
      },
      "source": [
        "data=pd.read_csv(\"/content/drive/MyDrive/income.csv\",na_values=[' ?'])"
      ],
      "execution_count": null,
      "outputs": []
    },
    {
      "cell_type": "code",
      "metadata": {
        "id": "y4UgjMzmruav",
        "outputId": "72309f9e-52c3-43c0-e0e1-700464f1eb59",
        "colab": {
          "base_uri": "https://localhost:8080/",
          "height": 282
        }
      },
      "source": [
        "data=data.copy()"
      ],
      "execution_count": null,
      "outputs": [
        {
          "output_type": "error",
          "ename": "NameError",
          "evalue": "ignored",
          "traceback": [
            "\u001b[0;31m---------------------------------------------------------------------------\u001b[0m",
            "\u001b[0;31mNameError\u001b[0m                                 Traceback (most recent call last)",
            "\u001b[0;32m<ipython-input-2-3576e726ef4c>\u001b[0m in \u001b[0;36m<module>\u001b[0;34m()\u001b[0m\n\u001b[0;32m----> 1\u001b[0;31m \u001b[0mdata\u001b[0m\u001b[0;34m=\u001b[0m\u001b[0mdata\u001b[0m\u001b[0;34m.\u001b[0m\u001b[0mcopy\u001b[0m\u001b[0;34m(\u001b[0m\u001b[0;34m)\u001b[0m\u001b[0;34m\u001b[0m\u001b[0;34m\u001b[0m\u001b[0m\n\u001b[0m",
            "\u001b[0;31mNameError\u001b[0m: name 'data' is not defined"
          ]
        }
      ]
    },
    {
      "cell_type": "code",
      "metadata": {
        "colab": {
          "base_uri": "https://localhost:8080/"
        },
        "id": "FIzYiifyrw7Z",
        "outputId": "599edf04-7757-4f49-9b05-b5e93d4c58d9"
      },
      "source": [
        "data.isnull().sum()"
      ],
      "execution_count": null,
      "outputs": [
        {
          "output_type": "execute_result",
          "data": {
            "text/plain": [
              "age                 0\n",
              "JobType          1809\n",
              "EdType              0\n",
              "maritalstatus       0\n",
              "occupation       1816\n",
              "relationship        0\n",
              "race                0\n",
              "gender              0\n",
              "capitalgain         0\n",
              "capitalloss         0\n",
              "hoursperweek        0\n",
              "nativecountry       0\n",
              "SalStat             0\n",
              "dtype: int64"
            ]
          },
          "metadata": {
            "tags": []
          },
          "execution_count": 12
        }
      ]
    },
    {
      "cell_type": "code",
      "metadata": {
        "id": "tlUvnWMdr0uu"
      },
      "source": [
        "missing=data[data.isnull().any(axis=1)]"
      ],
      "execution_count": null,
      "outputs": []
    },
    {
      "cell_type": "code",
      "metadata": {
        "colab": {
          "base_uri": "https://localhost:8080/",
          "height": 589
        },
        "id": "9p4RDtpBsXZU",
        "outputId": "534a2343-d732-4f20-fcb3-02efda94afe5"
      },
      "source": [
        "missing"
      ],
      "execution_count": null,
      "outputs": [
        {
          "output_type": "execute_result",
          "data": {
            "text/html": [
              "<div>\n",
              "<style scoped>\n",
              "    .dataframe tbody tr th:only-of-type {\n",
              "        vertical-align: middle;\n",
              "    }\n",
              "\n",
              "    .dataframe tbody tr th {\n",
              "        vertical-align: top;\n",
              "    }\n",
              "\n",
              "    .dataframe thead th {\n",
              "        text-align: right;\n",
              "    }\n",
              "</style>\n",
              "<table border=\"1\" class=\"dataframe\">\n",
              "  <thead>\n",
              "    <tr style=\"text-align: right;\">\n",
              "      <th></th>\n",
              "      <th>age</th>\n",
              "      <th>JobType</th>\n",
              "      <th>EdType</th>\n",
              "      <th>maritalstatus</th>\n",
              "      <th>occupation</th>\n",
              "      <th>relationship</th>\n",
              "      <th>race</th>\n",
              "      <th>gender</th>\n",
              "      <th>capitalgain</th>\n",
              "      <th>capitalloss</th>\n",
              "      <th>hoursperweek</th>\n",
              "      <th>nativecountry</th>\n",
              "      <th>SalStat</th>\n",
              "    </tr>\n",
              "  </thead>\n",
              "  <tbody>\n",
              "    <tr>\n",
              "      <th>8</th>\n",
              "      <td>17</td>\n",
              "      <td>NaN</td>\n",
              "      <td>11th</td>\n",
              "      <td>Never-married</td>\n",
              "      <td>NaN</td>\n",
              "      <td>Own-child</td>\n",
              "      <td>White</td>\n",
              "      <td>Female</td>\n",
              "      <td>0</td>\n",
              "      <td>0</td>\n",
              "      <td>5</td>\n",
              "      <td>United-States</td>\n",
              "      <td>less than or equal to 50,000</td>\n",
              "    </tr>\n",
              "    <tr>\n",
              "      <th>17</th>\n",
              "      <td>32</td>\n",
              "      <td>NaN</td>\n",
              "      <td>Some-college</td>\n",
              "      <td>Married-civ-spouse</td>\n",
              "      <td>NaN</td>\n",
              "      <td>Husband</td>\n",
              "      <td>White</td>\n",
              "      <td>Male</td>\n",
              "      <td>0</td>\n",
              "      <td>0</td>\n",
              "      <td>40</td>\n",
              "      <td>United-States</td>\n",
              "      <td>less than or equal to 50,000</td>\n",
              "    </tr>\n",
              "    <tr>\n",
              "      <th>29</th>\n",
              "      <td>22</td>\n",
              "      <td>NaN</td>\n",
              "      <td>Some-college</td>\n",
              "      <td>Never-married</td>\n",
              "      <td>NaN</td>\n",
              "      <td>Own-child</td>\n",
              "      <td>White</td>\n",
              "      <td>Male</td>\n",
              "      <td>0</td>\n",
              "      <td>0</td>\n",
              "      <td>40</td>\n",
              "      <td>United-States</td>\n",
              "      <td>less than or equal to 50,000</td>\n",
              "    </tr>\n",
              "    <tr>\n",
              "      <th>42</th>\n",
              "      <td>52</td>\n",
              "      <td>NaN</td>\n",
              "      <td>12th</td>\n",
              "      <td>Never-married</td>\n",
              "      <td>NaN</td>\n",
              "      <td>Other-relative</td>\n",
              "      <td>Black</td>\n",
              "      <td>Male</td>\n",
              "      <td>594</td>\n",
              "      <td>0</td>\n",
              "      <td>40</td>\n",
              "      <td>United-States</td>\n",
              "      <td>less than or equal to 50,000</td>\n",
              "    </tr>\n",
              "    <tr>\n",
              "      <th>44</th>\n",
              "      <td>63</td>\n",
              "      <td>NaN</td>\n",
              "      <td>1st-4th</td>\n",
              "      <td>Married-civ-spouse</td>\n",
              "      <td>NaN</td>\n",
              "      <td>Husband</td>\n",
              "      <td>White</td>\n",
              "      <td>Male</td>\n",
              "      <td>0</td>\n",
              "      <td>0</td>\n",
              "      <td>35</td>\n",
              "      <td>United-States</td>\n",
              "      <td>less than or equal to 50,000</td>\n",
              "    </tr>\n",
              "    <tr>\n",
              "      <th>...</th>\n",
              "      <td>...</td>\n",
              "      <td>...</td>\n",
              "      <td>...</td>\n",
              "      <td>...</td>\n",
              "      <td>...</td>\n",
              "      <td>...</td>\n",
              "      <td>...</td>\n",
              "      <td>...</td>\n",
              "      <td>...</td>\n",
              "      <td>...</td>\n",
              "      <td>...</td>\n",
              "      <td>...</td>\n",
              "      <td>...</td>\n",
              "    </tr>\n",
              "    <tr>\n",
              "      <th>31892</th>\n",
              "      <td>59</td>\n",
              "      <td>NaN</td>\n",
              "      <td>Bachelors</td>\n",
              "      <td>Married-civ-spouse</td>\n",
              "      <td>NaN</td>\n",
              "      <td>Husband</td>\n",
              "      <td>White</td>\n",
              "      <td>Male</td>\n",
              "      <td>0</td>\n",
              "      <td>0</td>\n",
              "      <td>40</td>\n",
              "      <td>United-States</td>\n",
              "      <td>greater than 50,000</td>\n",
              "    </tr>\n",
              "    <tr>\n",
              "      <th>31934</th>\n",
              "      <td>20</td>\n",
              "      <td>NaN</td>\n",
              "      <td>HS-grad</td>\n",
              "      <td>Never-married</td>\n",
              "      <td>NaN</td>\n",
              "      <td>Other-relative</td>\n",
              "      <td>White</td>\n",
              "      <td>Female</td>\n",
              "      <td>0</td>\n",
              "      <td>0</td>\n",
              "      <td>35</td>\n",
              "      <td>United-States</td>\n",
              "      <td>less than or equal to 50,000</td>\n",
              "    </tr>\n",
              "    <tr>\n",
              "      <th>31945</th>\n",
              "      <td>28</td>\n",
              "      <td>NaN</td>\n",
              "      <td>Some-college</td>\n",
              "      <td>Married-civ-spouse</td>\n",
              "      <td>NaN</td>\n",
              "      <td>Wife</td>\n",
              "      <td>White</td>\n",
              "      <td>Female</td>\n",
              "      <td>0</td>\n",
              "      <td>1887</td>\n",
              "      <td>40</td>\n",
              "      <td>United-States</td>\n",
              "      <td>greater than 50,000</td>\n",
              "    </tr>\n",
              "    <tr>\n",
              "      <th>31967</th>\n",
              "      <td>80</td>\n",
              "      <td>NaN</td>\n",
              "      <td>HS-grad</td>\n",
              "      <td>Widowed</td>\n",
              "      <td>NaN</td>\n",
              "      <td>Not-in-family</td>\n",
              "      <td>White</td>\n",
              "      <td>Male</td>\n",
              "      <td>0</td>\n",
              "      <td>0</td>\n",
              "      <td>24</td>\n",
              "      <td>United-States</td>\n",
              "      <td>less than or equal to 50,000</td>\n",
              "    </tr>\n",
              "    <tr>\n",
              "      <th>31968</th>\n",
              "      <td>17</td>\n",
              "      <td>NaN</td>\n",
              "      <td>11th</td>\n",
              "      <td>Never-married</td>\n",
              "      <td>NaN</td>\n",
              "      <td>Own-child</td>\n",
              "      <td>White</td>\n",
              "      <td>Male</td>\n",
              "      <td>0</td>\n",
              "      <td>0</td>\n",
              "      <td>40</td>\n",
              "      <td>United-States</td>\n",
              "      <td>less than or equal to 50,000</td>\n",
              "    </tr>\n",
              "  </tbody>\n",
              "</table>\n",
              "<p>1816 rows × 13 columns</p>\n",
              "</div>"
            ],
            "text/plain": [
              "       age JobType  ...   nativecountry                        SalStat\n",
              "8       17     NaN  ...   United-States   less than or equal to 50,000\n",
              "17      32     NaN  ...   United-States   less than or equal to 50,000\n",
              "29      22     NaN  ...   United-States   less than or equal to 50,000\n",
              "42      52     NaN  ...   United-States   less than or equal to 50,000\n",
              "44      63     NaN  ...   United-States   less than or equal to 50,000\n",
              "...    ...     ...  ...             ...                            ...\n",
              "31892   59     NaN  ...   United-States            greater than 50,000\n",
              "31934   20     NaN  ...   United-States   less than or equal to 50,000\n",
              "31945   28     NaN  ...   United-States            greater than 50,000\n",
              "31967   80     NaN  ...   United-States   less than or equal to 50,000\n",
              "31968   17     NaN  ...   United-States   less than or equal to 50,000\n",
              "\n",
              "[1816 rows x 13 columns]"
            ]
          },
          "metadata": {
            "tags": []
          },
          "execution_count": 14
        }
      ]
    },
    {
      "cell_type": "code",
      "metadata": {
        "id": "OWb7e9Dms6F4"
      },
      "source": [
        "data2=data.dropna(axis=0)"
      ],
      "execution_count": null,
      "outputs": []
    },
    {
      "cell_type": "code",
      "metadata": {
        "colab": {
          "base_uri": "https://localhost:8080/"
        },
        "id": "djyPrGHKtfrl",
        "outputId": "03e58d39-4042-44d5-aada-d496102586a9"
      },
      "source": [
        "data2.isnull().sum()"
      ],
      "execution_count": null,
      "outputs": [
        {
          "output_type": "execute_result",
          "data": {
            "text/plain": [
              "age              0\n",
              "JobType          0\n",
              "EdType           0\n",
              "maritalstatus    0\n",
              "occupation       0\n",
              "relationship     0\n",
              "race             0\n",
              "gender           0\n",
              "capitalgain      0\n",
              "capitalloss      0\n",
              "hoursperweek     0\n",
              "nativecountry    0\n",
              "SalStat          0\n",
              "dtype: int64"
            ]
          },
          "metadata": {
            "tags": []
          },
          "execution_count": 16
        }
      ]
    },
    {
      "cell_type": "code",
      "metadata": {
        "colab": {
          "base_uri": "https://localhost:8080/"
        },
        "id": "NMcR7jhetsjb",
        "outputId": "1c6a3f50-338e-4753-ad59-08c84d879a43"
      },
      "source": [
        "data2.info()"
      ],
      "execution_count": null,
      "outputs": [
        {
          "output_type": "stream",
          "text": [
            "<class 'pandas.core.frame.DataFrame'>\n",
            "Int64Index: 30162 entries, 0 to 31977\n",
            "Data columns (total 13 columns):\n",
            " #   Column         Non-Null Count  Dtype \n",
            "---  ------         --------------  ----- \n",
            " 0   age            30162 non-null  int64 \n",
            " 1   JobType        30162 non-null  object\n",
            " 2   EdType         30162 non-null  object\n",
            " 3   maritalstatus  30162 non-null  object\n",
            " 4   occupation     30162 non-null  object\n",
            " 5   relationship   30162 non-null  object\n",
            " 6   race           30162 non-null  object\n",
            " 7   gender         30162 non-null  object\n",
            " 8   capitalgain    30162 non-null  int64 \n",
            " 9   capitalloss    30162 non-null  int64 \n",
            " 10  hoursperweek   30162 non-null  int64 \n",
            " 11  nativecountry  30162 non-null  object\n",
            " 12  SalStat        30162 non-null  object\n",
            "dtypes: int64(4), object(9)\n",
            "memory usage: 3.2+ MB\n"
          ],
          "name": "stdout"
        }
      ]
    },
    {
      "cell_type": "code",
      "metadata": {
        "colab": {
          "base_uri": "https://localhost:8080/",
          "height": 173
        },
        "id": "lnpsHL-5t93Q",
        "outputId": "0237818a-d652-4f5b-f8ba-e48a46eaf25e"
      },
      "source": [
        "#Relation between independent variables\n",
        "data2.corr()"
      ],
      "execution_count": null,
      "outputs": [
        {
          "output_type": "execute_result",
          "data": {
            "text/html": [
              "<div>\n",
              "<style scoped>\n",
              "    .dataframe tbody tr th:only-of-type {\n",
              "        vertical-align: middle;\n",
              "    }\n",
              "\n",
              "    .dataframe tbody tr th {\n",
              "        vertical-align: top;\n",
              "    }\n",
              "\n",
              "    .dataframe thead th {\n",
              "        text-align: right;\n",
              "    }\n",
              "</style>\n",
              "<table border=\"1\" class=\"dataframe\">\n",
              "  <thead>\n",
              "    <tr style=\"text-align: right;\">\n",
              "      <th></th>\n",
              "      <th>age</th>\n",
              "      <th>capitalgain</th>\n",
              "      <th>capitalloss</th>\n",
              "      <th>hoursperweek</th>\n",
              "    </tr>\n",
              "  </thead>\n",
              "  <tbody>\n",
              "    <tr>\n",
              "      <th>age</th>\n",
              "      <td>1.000000</td>\n",
              "      <td>0.080154</td>\n",
              "      <td>0.060165</td>\n",
              "      <td>0.101599</td>\n",
              "    </tr>\n",
              "    <tr>\n",
              "      <th>capitalgain</th>\n",
              "      <td>0.080154</td>\n",
              "      <td>1.000000</td>\n",
              "      <td>-0.032229</td>\n",
              "      <td>0.080432</td>\n",
              "    </tr>\n",
              "    <tr>\n",
              "      <th>capitalloss</th>\n",
              "      <td>0.060165</td>\n",
              "      <td>-0.032229</td>\n",
              "      <td>1.000000</td>\n",
              "      <td>0.052417</td>\n",
              "    </tr>\n",
              "    <tr>\n",
              "      <th>hoursperweek</th>\n",
              "      <td>0.101599</td>\n",
              "      <td>0.080432</td>\n",
              "      <td>0.052417</td>\n",
              "      <td>1.000000</td>\n",
              "    </tr>\n",
              "  </tbody>\n",
              "</table>\n",
              "</div>"
            ],
            "text/plain": [
              "                   age  capitalgain  capitalloss  hoursperweek\n",
              "age           1.000000     0.080154     0.060165      0.101599\n",
              "capitalgain   0.080154     1.000000    -0.032229      0.080432\n",
              "capitalloss   0.060165    -0.032229     1.000000      0.052417\n",
              "hoursperweek  0.101599     0.080432     0.052417      1.000000"
            ]
          },
          "metadata": {
            "tags": []
          },
          "execution_count": 18
        }
      ]
    },
    {
      "cell_type": "code",
      "metadata": {
        "colab": {
          "base_uri": "https://localhost:8080/",
          "height": 142
        },
        "id": "YJmpwDUuxn5e",
        "outputId": "df326eb2-3649-46ab-ca28-d8667cdfca82"
      },
      "source": [
        "#Gender Proportion Table\n",
        "pd.crosstab(index=data2['gender'],columns='count',normalize=True)"
      ],
      "execution_count": null,
      "outputs": [
        {
          "output_type": "execute_result",
          "data": {
            "text/html": [
              "<div>\n",
              "<style scoped>\n",
              "    .dataframe tbody tr th:only-of-type {\n",
              "        vertical-align: middle;\n",
              "    }\n",
              "\n",
              "    .dataframe tbody tr th {\n",
              "        vertical-align: top;\n",
              "    }\n",
              "\n",
              "    .dataframe thead th {\n",
              "        text-align: right;\n",
              "    }\n",
              "</style>\n",
              "<table border=\"1\" class=\"dataframe\">\n",
              "  <thead>\n",
              "    <tr style=\"text-align: right;\">\n",
              "      <th>col_0</th>\n",
              "      <th>count</th>\n",
              "    </tr>\n",
              "    <tr>\n",
              "      <th>gender</th>\n",
              "      <th></th>\n",
              "    </tr>\n",
              "  </thead>\n",
              "  <tbody>\n",
              "    <tr>\n",
              "      <th>Female</th>\n",
              "      <td>0.324315</td>\n",
              "    </tr>\n",
              "    <tr>\n",
              "      <th>Male</th>\n",
              "      <td>0.675685</td>\n",
              "    </tr>\n",
              "  </tbody>\n",
              "</table>\n",
              "</div>"
            ],
            "text/plain": [
              "col_0       count\n",
              "gender           \n",
              " Female  0.324315\n",
              " Male    0.675685"
            ]
          },
          "metadata": {
            "tags": []
          },
          "execution_count": 19
        }
      ]
    },
    {
      "cell_type": "code",
      "metadata": {
        "colab": {
          "base_uri": "https://localhost:8080/",
          "height": 173
        },
        "id": "hDj5W52V0zeD",
        "outputId": "c73faea8-6fab-48b8-d7be-568669786c34"
      },
      "source": [
        "#Gender vs SalaryStatus\n",
        "pd.crosstab(index=data2['gender'],columns=data2['SalStat'],margins=True,normalize='index')"
      ],
      "execution_count": null,
      "outputs": [
        {
          "output_type": "execute_result",
          "data": {
            "text/html": [
              "<div>\n",
              "<style scoped>\n",
              "    .dataframe tbody tr th:only-of-type {\n",
              "        vertical-align: middle;\n",
              "    }\n",
              "\n",
              "    .dataframe tbody tr th {\n",
              "        vertical-align: top;\n",
              "    }\n",
              "\n",
              "    .dataframe thead th {\n",
              "        text-align: right;\n",
              "    }\n",
              "</style>\n",
              "<table border=\"1\" class=\"dataframe\">\n",
              "  <thead>\n",
              "    <tr style=\"text-align: right;\">\n",
              "      <th>SalStat</th>\n",
              "      <th>greater than 50,000</th>\n",
              "      <th>less than or equal to 50,000</th>\n",
              "    </tr>\n",
              "    <tr>\n",
              "      <th>gender</th>\n",
              "      <th></th>\n",
              "      <th></th>\n",
              "    </tr>\n",
              "  </thead>\n",
              "  <tbody>\n",
              "    <tr>\n",
              "      <th>Female</th>\n",
              "      <td>0.113678</td>\n",
              "      <td>0.886322</td>\n",
              "    </tr>\n",
              "    <tr>\n",
              "      <th>Male</th>\n",
              "      <td>0.313837</td>\n",
              "      <td>0.686163</td>\n",
              "    </tr>\n",
              "    <tr>\n",
              "      <th>All</th>\n",
              "      <td>0.248922</td>\n",
              "      <td>0.751078</td>\n",
              "    </tr>\n",
              "  </tbody>\n",
              "</table>\n",
              "</div>"
            ],
            "text/plain": [
              "SalStat   greater than 50,000   less than or equal to 50,000\n",
              "gender                                                      \n",
              " Female              0.113678                       0.886322\n",
              " Male                0.313837                       0.686163\n",
              "All                  0.248922                       0.751078"
            ]
          },
          "metadata": {
            "tags": []
          },
          "execution_count": 20
        }
      ]
    },
    {
      "cell_type": "code",
      "metadata": {
        "colab": {
          "base_uri": "https://localhost:8080/",
          "height": 350
        },
        "id": "kLb6TeK80pdO",
        "outputId": "aa9b3d88-54aa-4b3e-9d76-01ab331219e0"
      },
      "source": [
        "#Frequency Distribution of SalSats\n",
        "sns.countplot(data2['SalStat'])"
      ],
      "execution_count": null,
      "outputs": [
        {
          "output_type": "stream",
          "text": [
            "/usr/local/lib/python3.7/dist-packages/seaborn/_decorators.py:43: FutureWarning: Pass the following variable as a keyword arg: x. From version 0.12, the only valid positional argument will be `data`, and passing other arguments without an explicit keyword will result in an error or misinterpretation.\n",
            "  FutureWarning\n"
          ],
          "name": "stderr"
        },
        {
          "output_type": "execute_result",
          "data": {
            "text/plain": [
              "<matplotlib.axes._subplots.AxesSubplot at 0x7fdda14d9150>"
            ]
          },
          "metadata": {
            "tags": []
          },
          "execution_count": 21
        },
        {
          "output_type": "display_data",
          "data": {
            "image/png": "[encoded data removed]",
            "text/plain": [
              "<Figure size 432x288 with 1 Axes>"
            ]
          },
          "metadata": {
            "tags": [],
            "needs_background": "light"
          }
        }
      ]
    },
    {
      "cell_type": "code",
      "metadata": {
        "colab": {
          "base_uri": "https://localhost:8080/"
        },
        "id": "s92g0O6M13YD",
        "outputId": "a2b94bd7-9320-4553-ebdd-ff5e535a5cfc"
      },
      "source": [
        "data2['SalStat'].value_counts()"
      ],
      "execution_count": null,
      "outputs": [
        {
          "output_type": "execute_result",
          "data": {
            "text/plain": [
              " less than or equal to 50,000    22654\n",
              " greater than 50,000              7508\n",
              "Name: SalStat, dtype: int64"
            ]
          },
          "metadata": {
            "tags": []
          },
          "execution_count": 22
        }
      ]
    },
    {
      "cell_type": "code",
      "metadata": {
        "colab": {
          "base_uri": "https://localhost:8080/",
          "height": 350
        },
        "id": "Ek9SUCYJ2Je7",
        "outputId": "ef74a227-61f5-4a90-8391-c5039704bf91"
      },
      "source": [
        "#Histogram of Age\n",
        "sns.distplot(data2['age'],bins=10,kde=True)\n",
        "\n",
        "#People are in the age of 18-45"
      ],
      "execution_count": null,
      "outputs": [
        {
          "output_type": "stream",
          "text": [
            "/usr/local/lib/python3.7/dist-packages/seaborn/distributions.py:2557: FutureWarning: `distplot` is a deprecated function and will be removed in a future version. Please adapt your code to use either `displot` (a figure-level function with similar flexibility) or `histplot` (an axes-level function for histograms).\n",
            "  warnings.warn(msg, FutureWarning)\n"
          ],
          "name": "stderr"
        },
        {
          "output_type": "execute_result",
          "data": {
            "text/plain": [
              "<matplotlib.axes._subplots.AxesSubplot at 0x7fdda0febc90>"
            ]
          },
          "metadata": {
            "tags": []
          },
          "execution_count": 23
        },
        {
          "output_type": "display_data",
          "data": {
            "image/png": "[encoded data removed]",
            "text/plain": [
              "<Figure size 432x288 with 1 Axes>"
            ]
          },
          "metadata": {
            "tags": [],
            "needs_background": "light"
          }
        }
      ]
    },
    {
      "cell_type": "code",
      "metadata": {
        "colab": {
          "base_uri": "https://localhost:8080/",
          "height": 350
        },
        "id": "FvHHMPdZ2d-1",
        "outputId": "f245eb99-ded5-46cb-dd41-8ea0eb264332"
      },
      "source": [
        "#Box Plot: Age vs Salary status\n",
        "sns.boxplot('SalStat','age',data=data2)\n",
        "\n",
        "#People with age of 35-50 getting >50k\n",
        "#People with age of 25-35 getting <=50k"
      ],
      "execution_count": null,
      "outputs": [
        {
          "output_type": "stream",
          "text": [
            "/usr/local/lib/python3.7/dist-packages/seaborn/_decorators.py:43: FutureWarning: Pass the following variables as keyword args: x, y. From version 0.12, the only valid positional argument will be `data`, and passing other arguments without an explicit keyword will result in an error or misinterpretation.\n",
            "  FutureWarning\n"
          ],
          "name": "stderr"
        },
        {
          "output_type": "execute_result",
          "data": {
            "text/plain": [
              "<matplotlib.axes._subplots.AxesSubplot at 0x7fdda1466990>"
            ]
          },
          "metadata": {
            "tags": []
          },
          "execution_count": 24
        },
        {
          "output_type": "display_data",
          "data": {
            "image/png": "[encoded data removed]",
            "text/plain": [
              "<Figure size 432x288 with 1 Axes>"
            ]
          },
          "metadata": {
            "tags": [],
            "needs_background": "light"
          }
        }
      ]
    },
    {
      "cell_type": "code",
      "metadata": {
        "colab": {
          "base_uri": "https://localhost:8080/",
          "height": 350
        },
        "id": "a5LQ7v3d3_tP",
        "outputId": "4ebbb011-23be-46b0-8911-bb0e95ae9783"
      },
      "source": [
        "#Gain dispolot\n",
        "sns.distplot(data2['capitalgain'],bins=10,kde=False)"
      ],
      "execution_count": null,
      "outputs": [
        {
          "output_type": "stream",
          "text": [
            "/usr/local/lib/python3.7/dist-packages/seaborn/distributions.py:2557: FutureWarning: `distplot` is a deprecated function and will be removed in a future version. Please adapt your code to use either `displot` (a figure-level function with similar flexibility) or `histplot` (an axes-level function for histograms).\n",
            "  warnings.warn(msg, FutureWarning)\n"
          ],
          "name": "stderr"
        },
        {
          "output_type": "execute_result",
          "data": {
            "text/plain": [
              "<matplotlib.axes._subplots.AxesSubplot at 0x7fdd9667df90>"
            ]
          },
          "metadata": {
            "tags": []
          },
          "execution_count": 25
        },
        {
          "output_type": "display_data",
          "data": {
            "image/png": "[encoded data removed]",
            "text/plain": [
              "<Figure size 432x288 with 1 Axes>"
            ]
          },
          "metadata": {
            "tags": [],
            "needs_background": "light"
          }
        }
      ]
    },
    {
      "cell_type": "code",
      "metadata": {
        "colab": {
          "base_uri": "https://localhost:8080/",
          "height": 353
        },
        "id": "9m0Zhd3T41CP",
        "outputId": "51d807ba-2242-49fe-c904-188ca47cbf3c"
      },
      "source": [
        "#capital loss distplot\n",
        "sns.distplot(data2['capitalloss'],bins=10,kde=False)"
      ],
      "execution_count": null,
      "outputs": [
        {
          "output_type": "stream",
          "text": [
            "/usr/local/lib/python3.7/dist-packages/seaborn/distributions.py:2557: FutureWarning: `distplot` is a deprecated function and will be removed in a future version. Please adapt your code to use either `displot` (a figure-level function with similar flexibility) or `histplot` (an axes-level function for histograms).\n",
            "  warnings.warn(msg, FutureWarning)\n"
          ],
          "name": "stderr"
        },
        {
          "output_type": "execute_result",
          "data": {
            "text/plain": [
              "<matplotlib.axes._subplots.AxesSubplot at 0x7fdd965fd350>"
            ]
          },
          "metadata": {
            "tags": []
          },
          "execution_count": 26
        },
        {
          "output_type": "display_data",
          "data": {
            "image/png": "[encoded data removed]",
            "text/plain": [
              "<Figure size 432x288 with 1 Axes>"
            ]
          },
          "metadata": {
            "tags": [],
            "needs_background": "light"
          }
        }
      ]
    },
    {
      "cell_type": "code",
      "metadata": {
        "colab": {
          "base_uri": "https://localhost:8080/"
        },
        "id": "6d9wRjO85KST",
        "outputId": "dbcae0d2-9b7a-4bba-aecb-4a7779718594"
      },
      "source": [
        "#Reindexing of labels in target\n",
        "data2['SalStat']=data2['SalStat'].map({' less than or equal to 50,000':0,' greater than 50,000':1})"
      ],
      "execution_count": null,
      "outputs": [
        {
          "output_type": "stream",
          "text": [
            "/usr/local/lib/python3.7/dist-packages/ipykernel_launcher.py:2: SettingWithCopyWarning: \n",
            "A value is trying to be set on a copy of a slice from a DataFrame.\n",
            "Try using .loc[row_indexer,col_indexer] = value instead\n",
            "\n",
            "See the caveats in the documentation: https://pandas.pydata.org/pandas-docs/stable/user_guide/indexing.html#returning-a-view-versus-a-copy\n",
            "  \n"
          ],
          "name": "stderr"
        }
      ]
    },
    {
      "cell_type": "code",
      "metadata": {
        "colab": {
          "base_uri": "https://localhost:8080/"
        },
        "id": "VXmm8sor6dm4",
        "outputId": "a188b2a6-7efe-4b02-e231-149cb53d8636"
      },
      "source": [
        "data2['SalStat']"
      ],
      "execution_count": null,
      "outputs": [
        {
          "output_type": "execute_result",
          "data": {
            "text/plain": [
              "0        0\n",
              "1        0\n",
              "2        1\n",
              "3        0\n",
              "4        0\n",
              "        ..\n",
              "31973    0\n",
              "31974    0\n",
              "31975    0\n",
              "31976    0\n",
              "31977    0\n",
              "Name: SalStat, Length: 30162, dtype: int64"
            ]
          },
          "metadata": {
            "tags": []
          },
          "execution_count": 28
        }
      ]
    },
    {
      "cell_type": "code",
      "metadata": {
        "id": "oQrSDgPJ6xkA"
      },
      "source": [
        "newdata=pd.get_dummies(data2,drop_first=True)"
      ],
      "execution_count": null,
      "outputs": []
    },
    {
      "cell_type": "code",
      "metadata": {
        "colab": {
          "base_uri": "https://localhost:8080/"
        },
        "id": "Xx7sUBTs8taR",
        "outputId": "3c449c86-2fb0-4f4a-c403-0f84654adf89"
      },
      "source": [
        "newdata.columns"
      ],
      "execution_count": null,
      "outputs": [
        {
          "output_type": "execute_result",
          "data": {
            "text/plain": [
              "Index(['age', 'capitalgain', 'capitalloss', 'hoursperweek', 'SalStat',\n",
              "       'JobType_ Local-gov', 'JobType_ Private', 'JobType_ Self-emp-inc',\n",
              "       'JobType_ Self-emp-not-inc', 'JobType_ State-gov',\n",
              "       'JobType_ Without-pay', 'EdType_ 11th', 'EdType_ 12th',\n",
              "       'EdType_ 1st-4th', 'EdType_ 5th-6th', 'EdType_ 7th-8th', 'EdType_ 9th',\n",
              "       'EdType_ Assoc-acdm', 'EdType_ Assoc-voc', 'EdType_ Bachelors',\n",
              "       'EdType_ Doctorate', 'EdType_ HS-grad', 'EdType_ Masters',\n",
              "       'EdType_ Preschool', 'EdType_ Prof-school', 'EdType_ Some-college',\n",
              "       'maritalstatus_ Married-AF-spouse', 'maritalstatus_ Married-civ-spouse',\n",
              "       'maritalstatus_ Married-spouse-absent', 'maritalstatus_ Never-married',\n",
              "       'maritalstatus_ Separated', 'maritalstatus_ Widowed',\n",
              "       'occupation_ Armed-Forces', 'occupation_ Craft-repair',\n",
              "       'occupation_ Exec-managerial', 'occupation_ Farming-fishing',\n",
              "       'occupation_ Handlers-cleaners', 'occupation_ Machine-op-inspct',\n",
              "       'occupation_ Other-service', 'occupation_ Priv-house-serv',\n",
              "       'occupation_ Prof-specialty', 'occupation_ Protective-serv',\n",
              "       'occupation_ Sales', 'occupation_ Tech-support',\n",
              "       'occupation_ Transport-moving', 'relationship_ Not-in-family',\n",
              "       'relationship_ Other-relative', 'relationship_ Own-child',\n",
              "       'relationship_ Unmarried', 'relationship_ Wife',\n",
              "       'race_ Asian-Pac-Islander', 'race_ Black', 'race_ Other', 'race_ White',\n",
              "       'gender_ Male', 'nativecountry_ Canada', 'nativecountry_ China',\n",
              "       'nativecountry_ Columbia', 'nativecountry_ Cuba',\n",
              "       'nativecountry_ Dominican-Republic', 'nativecountry_ Ecuador',\n",
              "       'nativecountry_ El-Salvador', 'nativecountry_ England',\n",
              "       'nativecountry_ France', 'nativecountry_ Germany',\n",
              "       'nativecountry_ Greece', 'nativecountry_ Guatemala',\n",
              "       'nativecountry_ Haiti', 'nativecountry_ Holand-Netherlands',\n",
              "       'nativecountry_ Honduras', 'nativecountry_ Hong',\n",
              "       'nativecountry_ Hungary', 'nativecountry_ India', 'nativecountry_ Iran',\n",
              "       'nativecountry_ Ireland', 'nativecountry_ Italy',\n",
              "       'nativecountry_ Jamaica', 'nativecountry_ Japan', 'nativecountry_ Laos',\n",
              "       'nativecountry_ Mexico', 'nativecountry_ Nicaragua',\n",
              "       'nativecountry_ Outlying-US(Guam-USVI-etc)', 'nativecountry_ Peru',\n",
              "       'nativecountry_ Philippines', 'nativecountry_ Poland',\n",
              "       'nativecountry_ Portugal', 'nativecountry_ Puerto-Rico',\n",
              "       'nativecountry_ Scotland', 'nativecountry_ South',\n",
              "       'nativecountry_ Taiwan', 'nativecountry_ Thailand',\n",
              "       'nativecountry_ Trinadad&Tobago', 'nativecountry_ United-States',\n",
              "       'nativecountry_ Vietnam', 'nativecountry_ Yugoslavia'],\n",
              "      dtype='object')"
            ]
          },
          "metadata": {
            "tags": []
          },
          "execution_count": 30
        }
      ]
    },
    {
      "cell_type": "code",
      "metadata": {
        "colab": {
          "base_uri": "https://localhost:8080/"
        },
        "id": "vXJWqB9S8yA6",
        "outputId": "e4594a9a-8fda-4bfd-9483-79e43e886867"
      },
      "source": [
        "newdata.info()"
      ],
      "execution_count": null,
      "outputs": [
        {
          "output_type": "stream",
          "text": [
            "<class 'pandas.core.frame.DataFrame'>\n",
            "Int64Index: 30162 entries, 0 to 31977\n",
            "Data columns (total 95 columns):\n",
            " #   Column                                     Non-Null Count  Dtype\n",
            "---  ------                                     --------------  -----\n",
            " 0   age                                        30162 non-null  int64\n",
            " 1   capitalgain                                30162 non-null  int64\n",
            " 2   capitalloss                                30162 non-null  int64\n",
            " 3   hoursperweek                               30162 non-null  int64\n",
            " 4   SalStat                                    30162 non-null  int64\n",
            " 5   JobType_ Local-gov                         30162 non-null  uint8\n",
            " 6   JobType_ Private                           30162 non-null  uint8\n",
            " 7   JobType_ Self-emp-inc                      30162 non-null  uint8\n",
            " 8   JobType_ Self-emp-not-inc                  30162 non-null  uint8\n",
            " 9   JobType_ State-gov                         30162 non-null  uint8\n",
            " 10  JobType_ Without-pay                       30162 non-null  uint8\n",
            " 11  EdType_ 11th                               30162 non-null  uint8\n",
            " 12  EdType_ 12th                               30162 non-null  uint8\n",
            " 13  EdType_ 1st-4th                            30162 non-null  uint8\n",
            " 14  EdType_ 5th-6th                            30162 non-null  uint8\n",
            " 15  EdType_ 7th-8th                            30162 non-null  uint8\n",
            " 16  EdType_ 9th                                30162 non-null  uint8\n",
            " 17  EdType_ Assoc-acdm                         30162 non-null  uint8\n",
            " 18  EdType_ Assoc-voc                          30162 non-null  uint8\n",
            " 19  EdType_ Bachelors                          30162 non-null  uint8\n",
            " 20  EdType_ Doctorate                          30162 non-null  uint8\n",
            " 21  EdType_ HS-grad                            30162 non-null  uint8\n",
            " 22  EdType_ Masters                            30162 non-null  uint8\n",
            " 23  EdType_ Preschool                          30162 non-null  uint8\n",
            " 24  EdType_ Prof-school                        30162 non-null  uint8\n",
            " 25  EdType_ Some-college                       30162 non-null  uint8\n",
            " 26  maritalstatus_ Married-AF-spouse           30162 non-null  uint8\n",
            " 27  maritalstatus_ Married-civ-spouse          30162 non-null  uint8\n",
            " 28  maritalstatus_ Married-spouse-absent       30162 non-null  uint8\n",
            " 29  maritalstatus_ Never-married               30162 non-null  uint8\n",
            " 30  maritalstatus_ Separated                   30162 non-null  uint8\n",
            " 31  maritalstatus_ Widowed                     30162 non-null  uint8\n",
            " 32  occupation_ Armed-Forces                   30162 non-null  uint8\n",
            " 33  occupation_ Craft-repair                   30162 non-null  uint8\n",
            " 34  occupation_ Exec-managerial                30162 non-null  uint8\n",
            " 35  occupation_ Farming-fishing                30162 non-null  uint8\n",
            " 36  occupation_ Handlers-cleaners              30162 non-null  uint8\n",
            " 37  occupation_ Machine-op-inspct              30162 non-null  uint8\n",
            " 38  occupation_ Other-service                  30162 non-null  uint8\n",
            " 39  occupation_ Priv-house-serv                30162 non-null  uint8\n",
            " 40  occupation_ Prof-specialty                 30162 non-null  uint8\n",
            " 41  occupation_ Protective-serv                30162 non-null  uint8\n",
            " 42  occupation_ Sales                          30162 non-null  uint8\n",
            " 43  occupation_ Tech-support                   30162 non-null  uint8\n",
            " 44  occupation_ Transport-moving               30162 non-null  uint8\n",
            " 45  relationship_ Not-in-family                30162 non-null  uint8\n",
            " 46  relationship_ Other-relative               30162 non-null  uint8\n",
            " 47  relationship_ Own-child                    30162 non-null  uint8\n",
            " 48  relationship_ Unmarried                    30162 non-null  uint8\n",
            " 49  relationship_ Wife                         30162 non-null  uint8\n",
            " 50  race_ Asian-Pac-Islander                   30162 non-null  uint8\n",
            " 51  race_ Black                                30162 non-null  uint8\n",
            " 52  race_ Other                                30162 non-null  uint8\n",
            " 53  race_ White                                30162 non-null  uint8\n",
            " 54  gender_ Male                               30162 non-null  uint8\n",
            " 55  nativecountry_ Canada                      30162 non-null  uint8\n",
            " 56  nativecountry_ China                       30162 non-null  uint8\n",
            " 57  nativecountry_ Columbia                    30162 non-null  uint8\n",
            " 58  nativecountry_ Cuba                        30162 non-null  uint8\n",
            " 59  nativecountry_ Dominican-Republic          30162 non-null  uint8\n",
            " 60  nativecountry_ Ecuador                     30162 non-null  uint8\n",
            " 61  nativecountry_ El-Salvador                 30162 non-null  uint8\n",
            " 62  nativecountry_ England                     30162 non-null  uint8\n",
            " 63  nativecountry_ France                      30162 non-null  uint8\n",
            " 64  nativecountry_ Germany                     30162 non-null  uint8\n",
            " 65  nativecountry_ Greece                      30162 non-null  uint8\n",
            " 66  nativecountry_ Guatemala                   30162 non-null  uint8\n",
            " 67  nativecountry_ Haiti                       30162 non-null  uint8\n",
            " 68  nativecountry_ Holand-Netherlands          30162 non-null  uint8\n",
            " 69  nativecountry_ Honduras                    30162 non-null  uint8\n",
            " 70  nativecountry_ Hong                        30162 non-null  uint8\n",
            " 71  nativecountry_ Hungary                     30162 non-null  uint8\n",
            " 72  nativecountry_ India                       30162 non-null  uint8\n",
            " 73  nativecountry_ Iran                        30162 non-null  uint8\n",
            " 74  nativecountry_ Ireland                     30162 non-null  uint8\n",
            " 75  nativecountry_ Italy                       30162 non-null  uint8\n",
            " 76  nativecountry_ Jamaica                     30162 non-null  uint8\n",
            " 77  nativecountry_ Japan                       30162 non-null  uint8\n",
            " 78  nativecountry_ Laos                        30162 non-null  uint8\n",
            " 79  nativecountry_ Mexico                      30162 non-null  uint8\n",
            " 80  nativecountry_ Nicaragua                   30162 non-null  uint8\n",
            " 81  nativecountry_ Outlying-US(Guam-USVI-etc)  30162 non-null  uint8\n",
            " 82  nativecountry_ Peru                        30162 non-null  uint8\n",
            " 83  nativecountry_ Philippines                 30162 non-null  uint8\n",
            " 84  nativecountry_ Poland                      30162 non-null  uint8\n",
            " 85  nativecountry_ Portugal                    30162 non-null  uint8\n",
            " 86  nativecountry_ Puerto-Rico                 30162 non-null  uint8\n",
            " 87  nativecountry_ Scotland                    30162 non-null  uint8\n",
            " 88  nativecountry_ South                       30162 non-null  uint8\n",
            " 89  nativecountry_ Taiwan                      30162 non-null  uint8\n",
            " 90  nativecountry_ Thailand                    30162 non-null  uint8\n",
            " 91  nativecountry_ Trinadad&Tobago             30162 non-null  uint8\n",
            " 92  nativecountry_ United-States               30162 non-null  uint8\n",
            " 93  nativecountry_ Vietnam                     30162 non-null  uint8\n",
            " 94  nativecountry_ Yugoslavia                  30162 non-null  uint8\n",
            "dtypes: int64(5), uint8(90)\n",
            "memory usage: 5.2 MB\n"
          ],
          "name": "stdout"
        }
      ]
    },
    {
      "cell_type": "code",
      "metadata": {
        "id": "AVS439YH9AsR"
      },
      "source": [
        "#Seprating Features and Target variable\n",
        "y=newdata['SalStat']\n",
        "x=newdata.drop(columns='SalStat')"
      ],
      "execution_count": null,
      "outputs": []
    },
    {
      "cell_type": "code",
      "metadata": {
        "colab": {
          "base_uri": "https://localhost:8080/"
        },
        "id": "XySRgpMH-LY4",
        "outputId": "707dce82-1317-4290-94e8-1ab0e2091f26"
      },
      "source": [
        "y.values"
      ],
      "execution_count": null,
      "outputs": [
        {
          "output_type": "execute_result",
          "data": {
            "text/plain": [
              "array([0, 0, 1, ..., 0, 0, 0])"
            ]
          },
          "metadata": {
            "tags": []
          },
          "execution_count": 33
        }
      ]
    },
    {
      "cell_type": "code",
      "metadata": {
        "colab": {
          "base_uri": "https://localhost:8080/"
        },
        "id": "AfnmHaDe-M69",
        "outputId": "a1d4fefe-13dc-460c-dc6c-ac06ff245afa"
      },
      "source": [
        "x.values"
      ],
      "execution_count": null,
      "outputs": [
        {
          "output_type": "execute_result",
          "data": {
            "text/plain": [
              "array([[45,  0,  0, ...,  1,  0,  0],\n",
              "       [24,  0,  0, ...,  1,  0,  0],\n",
              "       [44,  0,  0, ...,  1,  0,  0],\n",
              "       ...,\n",
              "       [23,  0,  0, ...,  1,  0,  0],\n",
              "       [42,  0,  0, ...,  1,  0,  0],\n",
              "       [29,  0,  0, ...,  1,  0,  0]])"
            ]
          },
          "metadata": {
            "tags": []
          },
          "execution_count": 34
        }
      ]
    },
    {
      "cell_type": "code",
      "metadata": {
        "id": "1gpzbuB7-ULv"
      },
      "source": [
        "#Importing the sklearn library for modelling\n",
        "from sklearn.model_selection import train_test_split\n",
        "from sklearn.linear_model import LogisticRegression\n",
        "from sklearn.metrics import accuracy_score,confusion_matrix"
      ],
      "execution_count": null,
      "outputs": []
    },
    {
      "cell_type": "code",
      "metadata": {
        "id": "vhlgKU3rV9q6"
      },
      "source": [
        "#Splitting the data into training and testing\n",
        "x_train, x_test, y_train, y_test=train_test_split(x,y,test_size=0.3,random_state=42)"
      ],
      "execution_count": null,
      "outputs": []
    },
    {
      "cell_type": "code",
      "metadata": {
        "id": "s_ky2Bj0WiVM"
      },
      "source": [
        "#Make an instance of the model\n",
        "clf=LogisticRegression()"
      ],
      "execution_count": null,
      "outputs": []
    },
    {
      "cell_type": "code",
      "metadata": {
        "colab": {
          "base_uri": "https://localhost:8080/"
        },
        "id": "NCZPArJEWsFq",
        "outputId": "c99b858c-26a6-4175-a3eb-c531fb59dd04"
      },
      "source": [
        "#Fitting the training data into the model\n",
        "clf.fit(x_train,y_train)"
      ],
      "execution_count": null,
      "outputs": [
        {
          "output_type": "stream",
          "text": [
            "/usr/local/lib/python3.7/dist-packages/sklearn/linear_model/_logistic.py:940: ConvergenceWarning: lbfgs failed to converge (status=1):\n",
            "STOP: TOTAL NO. of ITERATIONS REACHED LIMIT.\n",
            "\n",
            "Increase the number of iterations (max_iter) or scale the data as shown in:\n",
            "    https://scikit-learn.org/stable/modules/preprocessing.html\n",
            "Please also refer to the documentation for alternative solver options:\n",
            "    https://scikit-learn.org/stable/modules/linear_model.html#logistic-regression\n",
            "  extra_warning_msg=_LOGISTIC_SOLVER_CONVERGENCE_MSG)\n"
          ],
          "name": "stderr"
        },
        {
          "output_type": "execute_result",
          "data": {
            "text/plain": [
              "LogisticRegression(C=1.0, class_weight=None, dual=False, fit_intercept=True,\n",
              "                   intercept_scaling=1, l1_ratio=None, max_iter=100,\n",
              "                   multi_class='auto', n_jobs=None, penalty='l2',\n",
              "                   random_state=None, solver='lbfgs', tol=0.0001, verbose=0,\n",
              "                   warm_start=False)"
            ]
          },
          "metadata": {
            "tags": []
          },
          "execution_count": 38
        }
      ]
    },
    {
      "cell_type": "code",
      "metadata": {
        "id": "8CXnwGagW3Bq"
      },
      "source": [
        "#Prediction on test data\n",
        "y_pred=clf.predict(x_test)"
      ],
      "execution_count": null,
      "outputs": []
    },
    {
      "cell_type": "code",
      "metadata": {
        "colab": {
          "base_uri": "https://localhost:8080/"
        },
        "id": "i_0CG5K1XIiJ",
        "outputId": "96f9eb11-c5e0-414d-b7cc-074d62d0dc2b"
      },
      "source": [
        "y_pred"
      ],
      "execution_count": null,
      "outputs": [
        {
          "output_type": "execute_result",
          "data": {
            "text/plain": [
              "array([0, 0, 0, ..., 0, 1, 0])"
            ]
          },
          "metadata": {
            "tags": []
          },
          "execution_count": 40
        }
      ]
    },
    {
      "cell_type": "code",
      "metadata": {
        "colab": {
          "base_uri": "https://localhost:8080/"
        },
        "id": "BAp4PbkAXLhM",
        "outputId": "4f96c229-ce73-4cfe-c8b3-5408485d5aa5"
      },
      "source": [
        "y_test.values"
      ],
      "execution_count": null,
      "outputs": [
        {
          "output_type": "execute_result",
          "data": {
            "text/plain": [
              "array([0, 0, 0, ..., 0, 0, 0])"
            ]
          },
          "metadata": {
            "tags": []
          },
          "execution_count": 42
        }
      ]
    },
    {
      "cell_type": "code",
      "metadata": {
        "id": "t6F_z-GnXPOY"
      },
      "source": [
        "#Calculating the accuracy\n",
        "accuracy=accuracy_score(y_test,y_pred)"
      ],
      "execution_count": null,
      "outputs": []
    },
    {
      "cell_type": "code",
      "metadata": {
        "colab": {
          "base_uri": "https://localhost:8080/"
        },
        "id": "AJEI2eviX5xk",
        "outputId": "48108de8-586d-4315-94e8-f109d1fada70"
      },
      "source": [
        "accuracy*100"
      ],
      "execution_count": null,
      "outputs": [
        {
          "output_type": "execute_result",
          "data": {
            "text/plain": [
              "84.39606586363134"
            ]
          },
          "metadata": {
            "tags": []
          },
          "execution_count": 45
        }
      ]
    },
    {
      "cell_type": "code",
      "metadata": {
        "id": "fU5OJ6LaX7Zl"
      },
      "source": [
        "misclassification=(y_test!=y_pred).sum()"
      ],
      "execution_count": null,
      "outputs": []
    },
    {
      "cell_type": "code",
      "metadata": {
        "colab": {
          "base_uri": "https://localhost:8080/"
        },
        "id": "jSh1op4dYcwp",
        "outputId": "853c0e65-05dd-45e1-88de-aef0f4383efd"
      },
      "source": [
        "misclassification"
      ],
      "execution_count": null,
      "outputs": [
        {
          "output_type": "execute_result",
          "data": {
            "text/plain": [
              "1412"
            ]
          },
          "metadata": {
            "tags": []
          },
          "execution_count": 47
        }
      ]
    },
    {
      "cell_type": "code",
      "metadata": {
        "colab": {
          "base_uri": "https://localhost:8080/"
        },
        "id": "7Z8UaREXYgko",
        "outputId": "32fe62e8-ea47-4d1f-f761-a00c5fbd7ce2"
      },
      "source": [
        "y_test.count()"
      ],
      "execution_count": null,
      "outputs": [
        {
          "output_type": "execute_result",
          "data": {
            "text/plain": [
              "9049"
            ]
          },
          "metadata": {
            "tags": []
          },
          "execution_count": 50
        }
      ]
    },
    {
      "cell_type": "code",
      "metadata": {
        "colab": {
          "base_uri": "https://localhost:8080/"
        },
        "id": "2sVeY553YmjE",
        "outputId": "1ff0a75e-9cec-4a6b-fe9c-00f284c293ad"
      },
      "source": [
        "Misclassification_percent=1412/9049\n",
        "Misclassification_percent\n"
      ],
      "execution_count": null,
      "outputs": [
        {
          "output_type": "execute_result",
          "data": {
            "text/plain": [
              "0.1560393413636866"
            ]
          },
          "metadata": {
            "tags": []
          },
          "execution_count": 54
        }
      ]
    },
    {
      "cell_type": "code",
      "metadata": {
        "id": "eGxBMMdKYrGG"
      },
      "source": [
        ""
      ],
      "execution_count": null,
      "outputs": []
    }
  ]
}